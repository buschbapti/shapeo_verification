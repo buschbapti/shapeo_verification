{
 "cells": [
  {
   "cell_type": "code",
   "execution_count": 93,
   "metadata": {
    "collapsed": false
   },
   "outputs": [],
   "source": [
    "import rospy\n",
    "from baxter_commander.commander import ArmCommander\n",
    "from baxter_commander.persistence import statetodict\n",
    "from baxter_commander.persistence import dicttostate\n",
    "import rospkg\n",
    "from os.path import join\n",
    "import json\n",
    "import numpy as np\n",
    "from copy import deepcopy "
   ]
  },
  {
   "cell_type": "code",
   "execution_count": 4,
   "metadata": {
    "collapsed": true
   },
   "outputs": [],
   "source": [
    "rospy.init_node('record_verification_poses')"
   ]
  },
  {
   "cell_type": "code",
   "execution_count": 17,
   "metadata": {
    "collapsed": true
   },
   "outputs": [],
   "source": [
    "rospack = rospkg.RosPack()"
   ]
  },
  {
   "cell_type": "code",
   "execution_count": 18,
   "metadata": {
    "collapsed": true
   },
   "outputs": [],
   "source": [
    "conf_dir = join(rospack.get_path('shapeo_verification'), 'config')"
   ]
  },
  {
   "cell_type": "markdown",
   "metadata": {},
   "source": [
    "# arm recording"
   ]
  },
  {
   "cell_type": "code",
   "execution_count": 64,
   "metadata": {
    "collapsed": false
   },
   "outputs": [
    {
     "name": "stderr",
     "output_type": "stream",
     "text": [
      "Unknown tag: materialScalar element defined multiple times: collisionScalar element defined multiple times: collisionUnknown tag: materialScalar element defined multiple times: collisionScalar element defined multiple times: collision[WARN] [WallTime: 1484661964.527385] left_gripper custom - not capable of 'calibrate' command\n"
     ]
    }
   ],
   "source": [
    "side = ['right', 'left']\n",
    "arms = {}\n",
    "for s in side:\n",
    "     arms[s] = ArmCommander(s)"
   ]
  },
  {
   "cell_type": "code",
   "execution_count": 126,
   "metadata": {
    "collapsed": false
   },
   "outputs": [],
   "source": [
    "for s in side:\n",
    "    arm = arms[s]\n",
    "    state = arm.get_current_state()\n",
    "    dict_state = statetodict(state)\n",
    "    with open(join(conf_dir, s + '_arm_state.json'), 'w') as outfile:\n",
    "        json.dump(dict_state, outfile, sort_keys=True, indent=4)"
   ]
  },
  {
   "cell_type": "markdown",
   "metadata": {},
   "source": [
    "# pose verification"
   ]
  },
  {
   "cell_type": "code",
   "execution_count": 127,
   "metadata": {
    "collapsed": true
   },
   "outputs": [],
   "source": [
    "for s in side:\n",
    "    arm = arms[s]\n",
    "    with open(join(conf_dir, s + '_arm_state.json')) as datafile:\n",
    "        dict_state = json.load(datafile)\n",
    "    state = dicttostate(dict_state)\n",
    "    arm.move_to_controlled(state)"
   ]
  },
  {
   "cell_type": "code",
   "execution_count": null,
   "metadata": {
    "collapsed": false
   },
   "outputs": [],
   "source": []
  },
  {
   "cell_type": "code",
   "execution_count": 128,
   "metadata": {
    "collapsed": true
   },
   "outputs": [],
   "source": [
    "with open(join(conf_dir, 'right_arm_pose.json')) as datafile:\n",
    "    dict_state = json.load(datafile)\n",
    "initial_state = dicttostate(dict_state)"
   ]
  },
  {
   "cell_type": "code",
   "execution_count": 129,
   "metadata": {
    "collapsed": false
   },
   "outputs": [],
   "source": []
  },
  {
   "cell_type": "code",
   "execution_count": 138,
   "metadata": {
    "collapsed": false
   },
   "outputs": [
    {
     "name": "stdout",
     "output_type": "stream",
     "text": [
      "0.823901081174\n"
     ]
    }
   ],
   "source": [
    "move_to_shape(3)"
   ]
  },
  {
   "cell_type": "code",
   "execution_count": null,
   "metadata": {
    "collapsed": true
   },
   "outputs": [],
   "source": []
  }
 ],
 "metadata": {
  "kernelspec": {
   "display_name": "Python 2",
   "language": "python",
   "name": "python2"
  },
  "language_info": {
   "codemirror_mode": {
    "name": "ipython",
    "version": 2
   },
   "file_extension": ".py",
   "mimetype": "text/x-python",
   "name": "python",
   "nbconvert_exporter": "python",
   "pygments_lexer": "ipython2",
   "version": "2.7.6"
  }
 },
 "nbformat": 4,
 "nbformat_minor": 1
}
